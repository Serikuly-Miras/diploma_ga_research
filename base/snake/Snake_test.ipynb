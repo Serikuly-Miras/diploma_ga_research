{
 "cells": [
  {
   "cell_type": "code",
   "execution_count": 1,
   "metadata": {},
   "outputs": [
    {
     "name": "stdout",
     "output_type": "stream",
     "text": [
      "[Taichi] version 1.3.0, llvm 15.0.1, commit 0f25b95e, win, python 3.10.9\n"
     ]
    }
   ],
   "source": [
    "from SnakeGA import SnakeSettings\n",
    "from SnakeGA import SnakeGA\n",
    "import taichi as ti\n",
    "import numpy as np\n",
    "import matplotlib.pyplot as plt\n"
   ]
  },
  {
   "cell_type": "code",
   "execution_count": 2,
   "metadata": {},
   "outputs": [
    {
     "data": {
      "text/plain": [
       "964"
      ]
     },
     "execution_count": 2,
     "metadata": {},
     "output_type": "execute_result"
    }
   ],
   "source": [
    "params_count = 32 * 20 + 20 * 12 + 12 * 4 + 20 + 12 + 4\n",
    "params_count"
   ]
  },
  {
   "cell_type": "code",
   "execution_count": 3,
   "metadata": {},
   "outputs": [],
   "source": [
    "settings = SnakeSettings(field_size=10,\n",
    "                         view_depth=3,\n",
    "                         steps_without_apple=100,\n",
    "                         nn_neurons_count=[32, 20, 12, 4],\n",
    "                         nn_activations=[\"input\", \"relu\", \"relu\", \"sigmoid\"],\n",
    "                         nn_params_count=params_count,\n",
    "                         population_size=100,\n",
    "                         epochs=30,\n",
    "                         crossover_rate=0.8,\n",
    "                         mutation_rate=0.003,\n",
    "                         elitism_num=10)\n"
   ]
  },
  {
   "cell_type": "code",
   "execution_count": 4,
   "metadata": {},
   "outputs": [
    {
     "name": "stdout",
     "output_type": "stream",
     "text": [
      "[Taichi] Starting on arch=x64\n",
      "=========================================================================\n",
      "Kernel Profiler(count, default) @ X64 \n",
      "=========================================================================\n",
      "[      %     total   count |      min       avg       max   ] Kernel name\n",
      "-------------------------------------------------------------------------\n",
      "[ 96.91%   0.434 s   3000x |    0.067     0.145     0.490 ms] tensor_to_ext_arr_c6_0_kernel_0_range_for\n",
      "[  1.28%   0.006 s     30x |    0.140     0.191     0.254 ms] crossover_c84_0_kernel_0_range_for\n",
      "[  0.87%   0.004 s     30x |    0.086     0.130     0.247 ms] switch_population_c90_0_kernel_0_range_for\n",
      "[  0.31%   0.001 s   3000x |    0.000     0.000     0.005 ms] snode_writer_10_kernel_0_serial\n",
      "[  0.18%   0.001 s     30x |    0.015     0.028     0.051 ms] mutation_c86_0_kernel_0_range_for\n",
      "[  0.18%   0.001 s     30x |    0.018     0.026     0.036 ms] tornament_selection_c82_0_kernel_0_range_for\n",
      "[  0.13%   0.001 s     30x |    0.013     0.020     0.045 ms] log_c92_0_kernel_2_range_for\n",
      "[  0.11%   0.000 s      1x |    0.485     0.485     0.485 ms] ramdomize_genes_c80_0_kernel_0_range_for\n",
      "[  0.01%   0.000 s      1x |    0.042     0.042     0.042 ms] place_snakes_c76_0_kernel_0_range_for\n",
      "[  0.01%   0.000 s      1x |    0.030     0.030     0.030 ms] place_food_c78_0_kernel_0_range_for\n",
      "[  0.00%   0.000 s     30x |    0.000     0.001     0.002 ms] log_c92_0_kernel_1_serial\n",
      "[  0.00%   0.000 s     30x |    0.000     0.000     0.007 ms] log_c92_0_kernel_0_serial\n",
      "[  0.00%   0.000 s     30x |    0.000     0.000     0.001 ms] snode_writer_20_kernel_0_serial\n",
      "[  0.00%   0.000 s      2x |    0.000     0.001     0.001 ms] jit_evaluator_0_kernel_0_serial\n",
      "[  0.00%   0.000 s      2x |    0.000     0.001     0.001 ms] jit_evaluator_1_kernel_0_serial\n",
      "-------------------------------------------------------------------------\n",
      "[100.00%] Total execution time:   0.448 s   number of results: 15\n",
      "=========================================================================\n"
     ]
    }
   ],
   "source": [
    "ti.profiler.clear_kernel_profiler_info()  # clear all records\n",
    "\n",
    "snakes = SnakeGA(settings=settings)\n",
    "snakes.advance()\n",
    "\n",
    "ti.profiler.print_kernel_profiler_info(mode='count')\n"
   ]
  },
  {
   "cell_type": "code",
   "execution_count": 5,
   "metadata": {},
   "outputs": [
    {
     "data": {
      "text/plain": [
       "Text(0, 0.5, 'AVG Fitness')"
      ]
     },
     "execution_count": 5,
     "metadata": {},
     "output_type": "execute_result"
    },
    {
     "data": {
      "image/png": "[encoded data removed]",
      "text/plain": [
       "<Figure size 500x500 with 1 Axes>"
      ]
     },
     "metadata": {},
     "output_type": "display_data"
    }
   ],
   "source": [
    "from pylab import rcParams\n",
    "rcParams['figure.figsize'] = 5, 5\n",
    "\n",
    "plt.plot(snakes.history.to_numpy())\n",
    "plt.xlabel(\"Epoch\")\n",
    "plt.ylabel(\"AVG Fitness\")"
   ]
  }
 ],
 "metadata": {
  "kernelspec": {
   "display_name": "Python 3.10.8 64-bit",
   "language": "python",
   "name": "python3"
  },
  "language_info": {
   "codemirror_mode": {
    "name": "ipython",
    "version": 3
   },
   "file_extension": ".py",
   "mimetype": "text/x-python",
   "name": "python",
   "nbconvert_exporter": "python",
   "pygments_lexer": "ipython3",
   "version": "3.10.9"
  },
  "orig_nbformat": 4,
  "vscode": {
   "interpreter": {
    "hash": "5966b29fd4247268dbda01255e47a0c03dea57bcc1d7635cd359bce5b3966b84"
   }
  }
 },
 "nbformat": 4,
 "nbformat_minor": 2
}
