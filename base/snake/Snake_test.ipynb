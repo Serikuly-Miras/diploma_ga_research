{
 "cells": [
  {
   "cell_type": "code",
   "execution_count": 7,
   "metadata": {},
   "outputs": [],
   "source": [
    "import taichi as ti\n",
    "import numpy as np\n",
    "import matplotlib.pyplot as plt\n",
    "\n",
    "from SnakeGA import SnakeSettings\n",
    "from SnakeGA import SnakeGA\n"
   ]
  },
  {
   "cell_type": "code",
   "execution_count": 8,
   "metadata": {},
   "outputs": [],
   "source": [
    "settings = SnakeSettings(field_size=10,\n",
    "                         view_depth=2,\n",
    "                         steps_without_food=100,\n",
    "                         hidden_topology=[20, 12],\n",
    "                         hidden_activations=[\"relu\", \"relu\"],\n",
    "                         population_size=100,\n",
    "                         epochs=10,\n",
    "                         mutation_rate=0.01,\n",
    "                         elitism_num=3,\n",
    "                         auto_save_span=10)\n"
   ]
  },
  {
   "cell_type": "code",
   "execution_count": 9,
   "metadata": {},
   "outputs": [
    {
     "name": "stdout",
     "output_type": "stream",
     "text": [
      "[Taichi] Starting on arch=x64\n",
      "Input neurons count -  32\n",
      "NN params count -  964\n"
     ]
    }
   ],
   "source": [
    "snakes = SnakeGA(settings=settings)\n"
   ]
  },
  {
   "cell_type": "code",
   "execution_count": 10,
   "metadata": {},
   "outputs": [
    {
     "name": "stdout",
     "output_type": "stream",
     "text": [
      "Epoch 10/10=========================================================================\n",
      "Kernel Profiler(count, default) @ X64 \n",
      "=========================================================================\n",
      "[      %     total   count |      min       avg       max   ] Kernel name\n",
      "-------------------------------------------------------------------------\n",
      "[ 94.11%   1.839 s  88317x |    0.012     0.021     0.941 ms] prep_vision_c80_0_kernel_1_range_for\n",
      "[  4.84%   0.095 s   1001x |    0.064     0.094     0.517 ms] tensor_to_ext_arr_c6_0_kernel_0_range_for\n",
      "[  0.83%   0.016 s  88317x |    0.000     0.000     0.029 ms] prep_vision_c80_0_kernel_0_serial\n",
      "[  0.08%   0.002 s     10x |    0.130     0.153     0.182 ms] crossover_c86_0_kernel_0_range_for\n",
      "[  0.06%   0.001 s     10x |    0.085     0.108     0.131 ms] switch_population_c92_0_kernel_0_range_for\n",
      "[  0.01%   0.000 s     10x |    0.011     0.024     0.090 ms] log_c94_0_kernel_1_range_for\n",
      "[  0.01%   0.000 s   1000x |    0.000     0.000     0.001 ms] snode_writer_12_kernel_0_serial\n",
      "[  0.01%   0.000 s     10x |    0.017     0.022     0.032 ms] mutation_c88_0_kernel_0_range_for\n",
      "[  0.01%   0.000 s     10x |    0.017     0.021     0.031 ms] elitism_c90_0_kernel_1_range_for\n",
      "[  0.01%   0.000 s     10x |    0.017     0.021     0.027 ms] tornament_selection_c84_0_kernel_0_range_for\n",
      "[  0.01%   0.000 s     10x |    0.014     0.020     0.031 ms] log_c94_0_kernel_3_range_for\n",
      "[  0.01%   0.000 s     10x |    0.011     0.019     0.040 ms] log_c94_0_kernel_6_range_for\n",
      "[  0.01%   0.000 s     10x |    0.007     0.016     0.025 ms] elitism_c90_0_kernel_2_range_for\n",
      "[  0.00%   0.000 s     10x |    0.000     0.001     0.001 ms] log_c94_0_kernel_5_serial\n",
      "[  0.00%   0.000 s     10x |    0.000     0.000     0.002 ms] log_c94_0_kernel_4_serial\n",
      "[  0.00%   0.000 s     10x |    0.000     0.000     0.001 ms] log_c94_0_kernel_2_serial\n",
      "[  0.00%   0.000 s     10x |    0.000     0.000     0.001 ms] snode_writer_20_kernel_0_serial\n",
      "[  0.00%   0.000 s     10x |    0.000     0.000     0.001 ms] log_c94_0_kernel_0_serial\n",
      "[  0.00%   0.000 s     10x |    0.000     0.000     0.001 ms] elitism_c90_0_kernel_0_serial\n",
      "-------------------------------------------------------------------------\n",
      "[100.00%] Total execution time:   1.954 s   number of results: 19\n",
      "=========================================================================\n"
     ]
    }
   ],
   "source": [
    "ti.profiler.clear_kernel_profiler_info()  # clear all records\n",
    "snakes.advance()\n",
    "ti.profiler.print_kernel_profiler_info(mode='count')\n"
   ]
  },
  {
   "cell_type": "code",
   "execution_count": 11,
   "metadata": {},
   "outputs": [
    {
     "data": {
      "text/plain": [
       "Text(0, 0.5, 'Fitness')"
      ]
     },
     "execution_count": 11,
     "metadata": {},
     "output_type": "execute_result"
    },
    {
     "data": {
      "image/png": "[encoded data removed]",
      "text/plain": [
       "<Figure size 500x500 with 1 Axes>"
      ]
     },
     "metadata": {},
     "output_type": "display_data"
    }
   ],
   "source": [
    "from pylab import rcParams\n",
    "rcParams['figure.figsize'] = 5, 5\n",
    "\n",
    "plt.plot(snakes.best.to_numpy(), label=\"Best\")\n",
    "plt.plot(snakes.avg.to_numpy(), label=\"Avg\")\n",
    "plt.legend()\n",
    "plt.xlabel(\"Epoch\")\n",
    "plt.ylabel(\"Fitness\")\n"
   ]
  }
 ],
 "metadata": {
  "kernelspec": {
   "display_name": "Python 3.10.8 64-bit",
   "language": "python",
   "name": "python3"
  },
  "language_info": {
   "codemirror_mode": {
    "name": "ipython",
    "version": 3
   },
   "file_extension": ".py",
   "mimetype": "text/x-python",
   "name": "python",
   "nbconvert_exporter": "python",
   "pygments_lexer": "ipython3",
   "version": "3.10.9"
  },
  "orig_nbformat": 4,
  "vscode": {
   "interpreter": {
    "hash": "5966b29fd4247268dbda01255e47a0c03dea57bcc1d7635cd359bce5b3966b84"
   }
  }
 },
 "nbformat": 4,
 "nbformat_minor": 2
}
