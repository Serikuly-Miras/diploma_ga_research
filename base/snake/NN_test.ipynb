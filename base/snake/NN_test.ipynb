{
 "cells": [
  {
   "cell_type": "code",
   "execution_count": 1,
   "metadata": {},
   "outputs": [],
   "source": [
    "import tensorflow as tf\n",
    "import numpy as np\n",
    "\n",
    "from FNN import FNN\n"
   ]
  },
  {
   "cell_type": "code",
   "execution_count": 2,
   "metadata": {},
   "outputs": [
    {
     "name": "stdout",
     "output_type": "stream",
     "text": [
      "Model: \"SnakeBrain\"\n",
      "_________________________________________________________________\n",
      " Layer (type)                Output Shape              Param #   \n",
      "=================================================================\n",
      " flatten (Flatten)           (None, 32)                0         \n",
      "                                                                 \n",
      " dense (Dense)               (None, 20)                660       \n",
      "                                                                 \n",
      " dense_1 (Dense)             (None, 12)                252       \n",
      "                                                                 \n",
      " dense_2 (Dense)             (None, 4)                 52        \n",
      "                                                                 \n",
      "=================================================================\n",
      "Total params: 964\n",
      "Trainable params: 964\n",
      "Non-trainable params: 0\n",
      "_________________________________________________________________\n"
     ]
    }
   ],
   "source": [
    "layers_count = [32, 20, 12, 4]\n",
    "\n",
    "layers = [\n",
    "    tf.keras.layers.Flatten(input_shape=(layers_count[0], 1)),\n",
    "    tf.keras.layers.Dense(units=layers_count[1], activation='relu'),\n",
    "    tf.keras.layers.Dense(units=layers_count[2], activation='relu'),\n",
    "    tf.keras.layers.Dense(units=layers_count[3], activation='sigmoid'),\n",
    "]\n",
    "\n",
    "model = tf.keras.Sequential(name=\"SnakeBrain\", layers=layers)\n",
    "model.build()\n",
    "model.summary()\n"
   ]
  },
  {
   "cell_type": "code",
   "execution_count": 9,
   "metadata": {},
   "outputs": [],
   "source": [
    "params = np.random.random(size=model.count_params()) - 0.5\n",
    "input = np.random.random(size=(1, 32)) - 0.5\n"
   ]
  },
  {
   "cell_type": "code",
   "execution_count": 17,
   "metadata": {},
   "outputs": [
    {
     "name": "stdout",
     "output_type": "stream",
     "text": [
      "CPU times: total: 4.86 s\n",
      "Wall time: 4.56 s\n"
     ]
    }
   ],
   "source": [
    "%%time\n",
    "for snek in range(1):\n",
    "    model.build(params)\n",
    "    for steps in range(100):\n",
    "        model.predict(input, verbose=0)"
   ]
  },
  {
   "cell_type": "code",
   "execution_count": 13,
   "metadata": {},
   "outputs": [],
   "source": [
    "neurons_count = [32, 20, 12, 4]\n",
    "activations = [\"input\", \"relu\", \"relu\", \"relu\"]\n",
    "nn = FNN(neurons_count=neurons_count, activations=activations, params=params)\n"
   ]
  },
  {
   "cell_type": "code",
   "execution_count": 15,
   "metadata": {},
   "outputs": [
    {
     "name": "stdout",
     "output_type": "stream",
     "text": [
      "3.58 ms ± 54.3 µs per loop (mean ± std. dev. of 7 runs, 100 loops each)\n"
     ]
    }
   ],
   "source": [
    "%%timeit\n",
    "for i in range(1):\n",
    "    nn.rebuild(params)\n",
    "    for j in range(100):\n",
    "        nn.predict(input=input[0])\n"
   ]
  }
 ],
 "metadata": {
  "kernelspec": {
   "display_name": "Python 3.10.8 64-bit",
   "language": "python",
   "name": "python3"
  },
  "language_info": {
   "codemirror_mode": {
    "name": "ipython",
    "version": 3
   },
   "file_extension": ".py",
   "mimetype": "text/x-python",
   "name": "python",
   "nbconvert_exporter": "python",
   "pygments_lexer": "ipython3",
   "version": "3.10.9"
  },
  "orig_nbformat": 4,
  "vscode": {
   "interpreter": {
    "hash": "5966b29fd4247268dbda01255e47a0c03dea57bcc1d7635cd359bce5b3966b84"
   }
  }
 },
 "nbformat": 4,
 "nbformat_minor": 2
}
