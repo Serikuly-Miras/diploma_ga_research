{
 "cells": [
  {
   "cell_type": "code",
   "execution_count": 1,
   "metadata": {},
   "outputs": [
    {
     "name": "stdout",
     "output_type": "stream",
     "text": [
      "[Taichi] version 1.1.3, llvm 10.0.0, commit 1262a70a, win, python 3.10.5\n"
     ]
    }
   ],
   "source": [
    "import numpy as np\n",
    "import matplotlib.pyplot as plt\n",
    "import taichi as ti"
   ]
  },
  {
   "cell_type": "code",
   "execution_count": 2,
   "metadata": {},
   "outputs": [],
   "source": [
    "# KNAPSACK_01 Data for the 01 Knapsack Problem\n",
    "# P-08 24 elements\n",
    "capacity = 6404180\n",
    "optimal = np.asarray([1, 1, 0, 1, 1, 1, 0, 0, 0, 1, 1, 0,\n",
    "                     1, 0, 0, 1, 0, 0, 0, 0, 0, 1, 1, 1])\n",
    "\n",
    "weights = np.asarray([382745, 799601, 909247, 729069, 467902, 44328, 34610, 698150,\n",
    "                      823460, 903959, 853665, 551830, 610856, 670702, 488960, 951111, 323046, 446298, 931161,\n",
    "                      31385, 496951, 264724, 224916, 169684])\n",
    "\n",
    "profits = np.asarray([825594, 1677009, 1676628, 1523970, 943972, 97426, 69666, 1296457,\n",
    "                      1679693, 1902996, 1844992, 1049289, 1252836, 1319836, 953277, 2067538, 675367, 853655,\n",
    "                      1826027, 65731, 901489, 577243, 466257, 369261])"
   ]
  },
  {
   "cell_type": "code",
   "execution_count": 3,
   "metadata": {},
   "outputs": [
    {
     "name": "stdout",
     "output_type": "stream",
     "text": [
      "Optimal profit - 13549094, with weight - 6402560\n"
     ]
    }
   ],
   "source": [
    "optimal_weight = 0\n",
    "optimal_profit = 0\n",
    "for i in range(optimal.shape[0]):\n",
    "    if optimal[i] == 1:\n",
    "        optimal_weight += weights[i]\n",
    "        optimal_profit += profits[i]\n",
    "print(\"Optimal profit - {}, with weight - {}\".format(optimal_profit, optimal_weight))"
   ]
  },
  {
   "cell_type": "code",
   "execution_count": 4,
   "metadata": {},
   "outputs": [],
   "source": [
    "from Knapsack import KnapsackSettings\n",
    "from Knapsack import Knapsack\n",
    "from KnapsackTaichi import KnapsackTaichi\n",
    "\n",
    "settings = KnapsackSettings(population_size=500, num_objects=weights.shape[0], profits=profits, weights=weights,\n",
    "                            capacity=capacity, iterations=100, crossover_rate=0.8, mutation_rate=0.2, elitism_num=25)\n"
   ]
  },
  {
   "cell_type": "code",
   "execution_count": 5,
   "metadata": {},
   "outputs": [
    {
     "name": "stdout",
     "output_type": "stream",
     "text": [
      "[Taichi] Starting on arch=x64\n",
      "=========================================================================\n",
      "Kernel Profiler(count, default) @ X64 \n",
      "=========================================================================\n",
      "[      %     total   count |      min       avg       max   ] Kernel name\n",
      "-------------------------------------------------------------------------\n",
      "[ 98.59%   0.011 s      1x |   11.451    11.451    11.451 ms] advance_c78_1_kernel_0_serial\n",
      "[  1.31%   0.000 s      1x |    0.152     0.152     0.152 ms] randomize_population_c80_0_kernel_0_range_for\n",
      "[  0.07%   0.000 s     24x |    0.000     0.000     0.001 ms] snode_writer_17_kernel_0_serial\n",
      "[  0.03%   0.000 s     24x |    0.000     0.000     0.001 ms] snode_writer_19_kernel_0_serial\n",
      "-------------------------------------------------------------------------\n",
      "[100.00%] Total execution time:   0.012 s   number of results: 4\n",
      "=========================================================================\n"
     ]
    }
   ],
   "source": [
    "ti.profiler.clear_kernel_profiler_info()  # clear all records\n",
    "k = KnapsackTaichi(settings=settings, architecture=ti.cpu, max_num_threads=12)\n",
    "k.advance()\n",
    "ti.profiler.print_kernel_profiler_info(mode='count')"
   ]
  },
  {
   "cell_type": "code",
   "execution_count": 6,
   "metadata": {},
   "outputs": [
    {
     "data": {
      "text/plain": [
       "Text(0, 0.5, 'Profit')"
      ]
     },
     "execution_count": 6,
     "metadata": {},
     "output_type": "execute_result"
    },
    {
     "data": {
      "image/png": "[encoded data removed]",
      "text/plain": [
       "<Figure size 432x288 with 1 Axes>"
      ]
     },
     "metadata": {
      "needs_background": "light"
     },
     "output_type": "display_data"
    }
   ],
   "source": [
    "plt.plot(k.history)\n",
    "plt.plot(np.full(settings.iterations, fill_value=optimal_profit))\n",
    "plt.xlabel(\"Epoch\")\n",
    "plt.ylabel(\"Profit\")"
   ]
  },
  {
   "cell_type": "code",
   "execution_count": 7,
   "metadata": {},
   "outputs": [
    {
     "data": {
      "text/plain": [
       "Text(0, 0.5, 'Profit')"
      ]
     },
     "execution_count": 7,
     "metadata": {},
     "output_type": "execute_result"
    },
    {
     "data": {
      "image/png": "[encoded data removed]",
      "text/plain": [
       "<Figure size 432x288 with 1 Axes>"
      ]
     },
     "metadata": {
      "needs_background": "light"
     },
     "output_type": "display_data"
    }
   ],
   "source": [
    "k = Knapsack(settings=settings)\n",
    "k.advance()\n",
    "plt.plot(k.history)\n",
    "plt.plot(np.full(settings.iterations, fill_value=optimal_profit))\n",
    "plt.xlabel(\"Epoch\")\n",
    "plt.ylabel(\"Profit\")"
   ]
  },
  {
   "cell_type": "code",
   "execution_count": 8,
   "metadata": {},
   "outputs": [],
   "source": [
    "import time\n",
    "\n",
    "\n",
    "def measure_time(di, arch, threads=12) -> list[float]:\n",
    "    dt = []\n",
    "    for i in range(len(di)):\n",
    "        settings.iterations = di[i]\n",
    "        start = time.time()\n",
    "        if arch != None:\n",
    "            k = KnapsackTaichi(settings=settings,\n",
    "                               architecture=arch, max_num_threads=threads)\n",
    "        else:\n",
    "            k = Knapsack(settings=settings)\n",
    "        k.advance()\n",
    "        dt.append(time.time() - start)\n",
    "    return dt\n",
    "\n",
    "def iterations_per_second(iterations, time) -> float:\n",
    "    dt = 0\n",
    "    di = 0\n",
    "    for i in range(len(iterations) - 1):\n",
    "        dt += time[i + 1] - time[i]\n",
    "        di += iterations[i + 1] - iterations[i]\n",
    "    return di / dt \n"
   ]
  },
  {
   "cell_type": "code",
   "execution_count": 9,
   "metadata": {},
   "outputs": [
    {
     "name": "stdout",
     "output_type": "stream",
     "text": [
      "[Taichi] Starting on arch=cuda\n",
      "[Taichi] Starting on arch=cuda\n",
      "[Taichi] Starting on arch=x64\n",
      "[Taichi] Starting on arch=x64\n"
     ]
    }
   ],
   "source": [
    "iters = [n*100 for n in range(1,3)]\n",
    "py_perf =  measure_time(iters, None)\n",
    "ti_gpu_perf =  measure_time(iters, ti.gpu)\n",
    "ti_cpu_perf =  measure_time(iters, ti.cpu)"
   ]
  },
  {
   "cell_type": "code",
   "execution_count": 10,
   "metadata": {},
   "outputs": [
    {
     "data": {
      "image/png": "[encoded data removed]",
      "text/plain": [
       "<Figure size 432x288 with 1 Axes>"
      ]
     },
     "metadata": {
      "needs_background": "light"
     },
     "output_type": "display_data"
    }
   ],
   "source": [
    "# set width of bar\n",
    "barWidth = 0.25\n",
    "\n",
    "# Set position of bar on X axis\n",
    "br1 = np.arange(len(py_perf))\n",
    "br2 = [x + barWidth for x in br1]\n",
    "br3 = [x + barWidth for x in br2]\n",
    "\n",
    "# Make the plot\n",
    "plt.bar(br1, py_perf, color='r', width=barWidth,\n",
    "        edgecolor='grey', label='Python')\n",
    "plt.bar(br2, ti_gpu_perf, color='g', width=barWidth,\n",
    "        edgecolor='grey', label='Taichi GPU')\n",
    "plt.bar(br3, ti_cpu_perf, color='b', width=barWidth,\n",
    "        edgecolor='grey', label='Taichi CPU')\n",
    "\n",
    "# Adding Xticks\n",
    "plt.xlabel('Iterations', fontweight='bold', fontsize=15)\n",
    "plt.ylabel('Time (seconds)', fontweight='bold', fontsize=15)\n",
    "plt.xticks([r + barWidth for r in range(len(py_perf))],\n",
    "           iters)\n",
    "\n",
    "plt.legend()\n",
    "plt.show()\n"
   ]
  },
  {
   "cell_type": "code",
   "execution_count": 11,
   "metadata": {},
   "outputs": [
    {
     "name": "stdout",
     "output_type": "stream",
     "text": [
      "[Taichi] Starting on arch=cuda\n",
      "[Taichi] Starting on arch=cuda\n",
      "[Taichi] Starting on arch=cuda\n",
      "[Taichi] Starting on arch=x64\n",
      "[Taichi] Starting on arch=x64\n",
      "[Taichi] Starting on arch=x64\n"
     ]
    }
   ],
   "source": [
    "py_ips = iterations_per_second(iters, py_perf)\n",
    "\n",
    "iters = [n*100 for n in range(1,4)]\n",
    "py_perf =  measure_time(iters, None)\n",
    "py_ips = iterations_per_second(iters, py_perf)\n",
    "\n",
    "# improve accuracy by increasing the tasks complexity\n",
    "iters_x = [n*1_000 for n in range(1,4)]\n",
    "ti_gpu_perf =  measure_time(iters_x, ti.gpu)\n",
    "ti_gpu_ips = iterations_per_second(iters_x, ti_gpu_perf)\n",
    "\n",
    "iters_xl = [n*10_000 for n in range(1,4)]\n",
    "ti_cpu_perf =  measure_time(iters_xl, ti.cpu)\n",
    "ti_cpu_ips = iterations_per_second(iters_xl, ti_cpu_perf)"
   ]
  },
  {
   "cell_type": "code",
   "execution_count": 12,
   "metadata": {},
   "outputs": [
    {
     "name": "stdout",
     "output_type": "stream",
     "text": [
      "Python - 20.95 iterations (epochs) per second\n",
      "Taichi GPU - 209.76 iterations (epochs) per second\n",
      "Taichi CPU - 8855.24 iterations (epochs) per second\n",
      "\n",
      "Python - 1.00x faster\n",
      "Taichi GPU - 10.01x faster\n",
      "Taichi CPU - 422.66x faster\n"
     ]
    }
   ],
   "source": [
    "data = {'Python': py_ips, 'Taichi GPU': ti_gpu_ips, 'Taichi CPU': ti_cpu_ips}\n",
    "for key in data:\n",
    "    print(\"{} - {:.2f} iterations (epochs) per second\".format(key, data[key]))\n",
    "print()\n",
    "\n",
    "for key in data:\n",
    "    print(\"{} - {:.2f}x faster\".format(key, data[key] / py_ips))\n"
   ]
  }
 ],
 "metadata": {
  "kernelspec": {
   "display_name": "Python 3.10.5 64-bit",
   "language": "python",
   "name": "python3"
  },
  "language_info": {
   "codemirror_mode": {
    "name": "ipython",
    "version": 3
   },
   "file_extension": ".py",
   "mimetype": "text/x-python",
   "name": "python",
   "nbconvert_exporter": "python",
   "pygments_lexer": "ipython3",
   "version": "3.10.8"
  },
  "orig_nbformat": 4,
  "vscode": {
   "interpreter": {
    "hash": "5966b29fd4247268dbda01255e47a0c03dea57bcc1d7635cd359bce5b3966b84"
   }
  }
 },
 "nbformat": 4,
 "nbformat_minor": 2
}
